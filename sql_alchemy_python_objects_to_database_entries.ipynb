{
  "nbformat": 4,
  "nbformat_minor": 0,
  "metadata": {
    "colab": {
      "provenance": []
    },
    "kernelspec": {
      "name": "python3",
      "display_name": "Python 3"
    },
    "language_info": {
      "name": "python"
    }
  },
  "cells": [
    {
      "cell_type": "markdown",
      "source": [
        "Sqlalchemy  -> turns python objects into database entries for maipulation, object relational mapper -> translate python classes to python related objects to database tables and database entries and when work with create a new python object we delete it we change it, the respective action will be translated into a database action without us having to write any sql code.\n",
        "\n",
        "\n",
        "for example create table, insert into, select from -> eveeything will be done automatically by sqlalchemy -> so that we can focus on python object and python code\n"
      ],
      "metadata": {
        "id": "rZhKqb9vIgZ3"
      }
    },
    {
      "cell_type": "code",
      "execution_count": 55,
      "metadata": {
        "colab": {
          "base_uri": "https://localhost:8080/"
        },
        "id": "g-IwPRzVFTHT",
        "outputId": "8f9aa995-1b85-42d7-8011-47111c96dc37"
      },
      "outputs": [
        {
          "output_type": "stream",
          "name": "stdout",
          "text": [
            "Requirement already satisfied: sqlalchemy in /usr/local/lib/python3.10/dist-packages (2.0.29)\n",
            "Requirement already satisfied: typing-extensions>=4.6.0 in /usr/local/lib/python3.10/dist-packages (from sqlalchemy) (4.10.0)\n",
            "Requirement already satisfied: greenlet!=0.4.17 in /usr/local/lib/python3.10/dist-packages (from sqlalchemy) (3.0.3)\n"
          ]
        }
      ],
      "source": [
        "pip install sqlalchemy"
      ]
    },
    {
      "cell_type": "code",
      "source": [
        "from sqlalchemy import create_engine, ForeignKey, Column, String, Integer, CHAR # database and data types fir the columns, engine we can connect to sql, sql lite, mysql etc\n",
        "from sqlalchemy.ext.declarative import declarative_base # base class that we are going to extend , or inherit from for our person/object\n",
        "from sqlalchemy.orm import sessionmaker # object relational mapping make session and do stuff in database"
      ],
      "metadata": {
        "id": "mGi3JsYhFoRY"
      },
      "execution_count": 56,
      "outputs": []
    },
    {
      "cell_type": "code",
      "source": [
        "Base = declarative_base() # base for our classes"
      ],
      "metadata": {
        "colab": {
          "base_uri": "https://localhost:8080/"
        },
        "id": "tghdowANFoUR",
        "outputId": "215567c0-a5d7-4da6-e392-9866ec82c288"
      },
      "execution_count": 57,
      "outputs": [
        {
          "output_type": "stream",
          "name": "stderr",
          "text": [
            "<ipython-input-57-2ed5fe827cbd>:1: MovedIn20Warning: The ``declarative_base()`` function is now available as sqlalchemy.orm.declarative_base(). (deprecated since: 2.0) (Background on SQLAlchemy 2.0 at: https://sqlalche.me/e/b8d9)\n",
            "  Base = declarative_base() # base for our classes\n"
          ]
        }
      ]
    },
    {
      "cell_type": "code",
      "source": [
        "class Person(Base):\n",
        "    __tablename__ = 'people'\n",
        "\n",
        "    ssn = Column('ssn', Integer, primary_key=True)\n",
        "    firstname = Column('firstname', String)\n",
        "    lastname = Column('lastname', String)\n",
        "    gender = Column('gender', CHAR)\n",
        "    age = Column('age', Integer)\n",
        "\n",
        "    def __init__(self, ssn, first, last, gender, age):\n",
        "        self.ssn = ssn\n",
        "        self.firstname = first\n",
        "        self.lastname = last\n",
        "        self.gender = gender\n",
        "        self.age = age\n",
        "\n",
        "    def __repr__(self):\n",
        "        return f'({self.ssn}) {self.firstname} {self.lastname} ({self.gender} {self.age})'"
      ],
      "metadata": {
        "id": "tQQ9hbd6FoXQ"
      },
      "execution_count": 58,
      "outputs": []
    },
    {
      "cell_type": "code",
      "source": [
        "class Thing(Base):\n",
        "  __tablename__ = 'things'\n",
        "\n",
        "  tid = Column('tid', Integer, primary_key = True)\n",
        "  description = Column('description', String)\n",
        "  owner = Column(Integer, ForeignKey('people.ssn'))\n",
        "\n",
        "  def __init__(self, tid, description, owner):\n",
        "    self.tid = tid\n",
        "    self.description = description\n",
        "    self.owner = owner\n",
        "\n",
        "  def __repr__(self):\n",
        "    return f'({self.tid}) {self.description} owned by {self.owner}'"
      ],
      "metadata": {
        "id": "AIb7gRoce1QS"
      },
      "execution_count": 59,
      "outputs": []
    },
    {
      "cell_type": "code",
      "source": [
        "engine = create_engine('sqlite:///mydb.db', echo = True)\n",
        "Base.metadata.create_all(bind=engine)"
      ],
      "metadata": {
        "colab": {
          "base_uri": "https://localhost:8080/"
        },
        "id": "dcM3Oe63FoZ6",
        "outputId": "15b18f09-0740-417e-a3ff-26c888dece25"
      },
      "execution_count": 60,
      "outputs": [
        {
          "output_type": "stream",
          "name": "stdout",
          "text": [
            "2024-04-09 11:07:22,765 INFO sqlalchemy.engine.Engine BEGIN (implicit)\n"
          ]
        },
        {
          "output_type": "stream",
          "name": "stderr",
          "text": [
            "INFO:sqlalchemy.engine.Engine:BEGIN (implicit)\n"
          ]
        },
        {
          "output_type": "stream",
          "name": "stdout",
          "text": [
            "2024-04-09 11:07:22,771 INFO sqlalchemy.engine.Engine PRAGMA main.table_info(\"people\")\n"
          ]
        },
        {
          "output_type": "stream",
          "name": "stderr",
          "text": [
            "INFO:sqlalchemy.engine.Engine:PRAGMA main.table_info(\"people\")\n"
          ]
        },
        {
          "output_type": "stream",
          "name": "stdout",
          "text": [
            "2024-04-09 11:07:22,775 INFO sqlalchemy.engine.Engine [raw sql] ()\n"
          ]
        },
        {
          "output_type": "stream",
          "name": "stderr",
          "text": [
            "INFO:sqlalchemy.engine.Engine:[raw sql] ()\n"
          ]
        },
        {
          "output_type": "stream",
          "name": "stdout",
          "text": [
            "2024-04-09 11:07:22,779 INFO sqlalchemy.engine.Engine PRAGMA temp.table_info(\"people\")\n"
          ]
        },
        {
          "output_type": "stream",
          "name": "stderr",
          "text": [
            "INFO:sqlalchemy.engine.Engine:PRAGMA temp.table_info(\"people\")\n"
          ]
        },
        {
          "output_type": "stream",
          "name": "stdout",
          "text": [
            "2024-04-09 11:07:22,782 INFO sqlalchemy.engine.Engine [raw sql] ()\n"
          ]
        },
        {
          "output_type": "stream",
          "name": "stderr",
          "text": [
            "INFO:sqlalchemy.engine.Engine:[raw sql] ()\n"
          ]
        },
        {
          "output_type": "stream",
          "name": "stdout",
          "text": [
            "2024-04-09 11:07:22,785 INFO sqlalchemy.engine.Engine PRAGMA main.table_info(\"things\")\n"
          ]
        },
        {
          "output_type": "stream",
          "name": "stderr",
          "text": [
            "INFO:sqlalchemy.engine.Engine:PRAGMA main.table_info(\"things\")\n"
          ]
        },
        {
          "output_type": "stream",
          "name": "stdout",
          "text": [
            "2024-04-09 11:07:22,788 INFO sqlalchemy.engine.Engine [raw sql] ()\n"
          ]
        },
        {
          "output_type": "stream",
          "name": "stderr",
          "text": [
            "INFO:sqlalchemy.engine.Engine:[raw sql] ()\n"
          ]
        },
        {
          "output_type": "stream",
          "name": "stdout",
          "text": [
            "2024-04-09 11:07:22,791 INFO sqlalchemy.engine.Engine PRAGMA temp.table_info(\"things\")\n"
          ]
        },
        {
          "output_type": "stream",
          "name": "stderr",
          "text": [
            "INFO:sqlalchemy.engine.Engine:PRAGMA temp.table_info(\"things\")\n"
          ]
        },
        {
          "output_type": "stream",
          "name": "stdout",
          "text": [
            "2024-04-09 11:07:22,793 INFO sqlalchemy.engine.Engine [raw sql] ()\n"
          ]
        },
        {
          "output_type": "stream",
          "name": "stderr",
          "text": [
            "INFO:sqlalchemy.engine.Engine:[raw sql] ()\n"
          ]
        },
        {
          "output_type": "stream",
          "name": "stdout",
          "text": [
            "2024-04-09 11:07:22,797 INFO sqlalchemy.engine.Engine \n",
            "CREATE TABLE people (\n",
            "\tssn INTEGER NOT NULL, \n",
            "\tfirstname VARCHAR, \n",
            "\tlastname VARCHAR, \n",
            "\tgender CHAR, \n",
            "\tage INTEGER, \n",
            "\tPRIMARY KEY (ssn)\n",
            ")\n",
            "\n",
            "\n"
          ]
        },
        {
          "output_type": "stream",
          "name": "stderr",
          "text": [
            "INFO:sqlalchemy.engine.Engine:\n",
            "CREATE TABLE people (\n",
            "\tssn INTEGER NOT NULL, \n",
            "\tfirstname VARCHAR, \n",
            "\tlastname VARCHAR, \n",
            "\tgender CHAR, \n",
            "\tage INTEGER, \n",
            "\tPRIMARY KEY (ssn)\n",
            ")\n",
            "\n",
            "\n"
          ]
        },
        {
          "output_type": "stream",
          "name": "stdout",
          "text": [
            "2024-04-09 11:07:22,800 INFO sqlalchemy.engine.Engine [no key 0.00277s] ()\n"
          ]
        },
        {
          "output_type": "stream",
          "name": "stderr",
          "text": [
            "INFO:sqlalchemy.engine.Engine:[no key 0.00277s] ()\n"
          ]
        },
        {
          "output_type": "stream",
          "name": "stdout",
          "text": [
            "2024-04-09 11:07:22,818 INFO sqlalchemy.engine.Engine \n",
            "CREATE TABLE things (\n",
            "\ttid INTEGER NOT NULL, \n",
            "\tdescription VARCHAR, \n",
            "\towner INTEGER, \n",
            "\tPRIMARY KEY (tid), \n",
            "\tFOREIGN KEY(owner) REFERENCES people (ssn)\n",
            ")\n",
            "\n",
            "\n"
          ]
        },
        {
          "output_type": "stream",
          "name": "stderr",
          "text": [
            "INFO:sqlalchemy.engine.Engine:\n",
            "CREATE TABLE things (\n",
            "\ttid INTEGER NOT NULL, \n",
            "\tdescription VARCHAR, \n",
            "\towner INTEGER, \n",
            "\tPRIMARY KEY (tid), \n",
            "\tFOREIGN KEY(owner) REFERENCES people (ssn)\n",
            ")\n",
            "\n",
            "\n"
          ]
        },
        {
          "output_type": "stream",
          "name": "stdout",
          "text": [
            "2024-04-09 11:07:22,821 INFO sqlalchemy.engine.Engine [no key 0.00293s] ()\n"
          ]
        },
        {
          "output_type": "stream",
          "name": "stderr",
          "text": [
            "INFO:sqlalchemy.engine.Engine:[no key 0.00293s] ()\n"
          ]
        },
        {
          "output_type": "stream",
          "name": "stdout",
          "text": [
            "2024-04-09 11:07:22,835 INFO sqlalchemy.engine.Engine COMMIT\n"
          ]
        },
        {
          "output_type": "stream",
          "name": "stderr",
          "text": [
            "INFO:sqlalchemy.engine.Engine:COMMIT\n"
          ]
        }
      ]
    },
    {
      "cell_type": "code",
      "source": [
        "Session = sessionmaker(bind = engine) # class\n",
        "session = Session() #instance ~ construtor of the class"
      ],
      "metadata": {
        "id": "3GFQ4a8VFoct"
      },
      "execution_count": 61,
      "outputs": []
    },
    {
      "cell_type": "code",
      "source": [
        "person = Person(12313, 'Mike', 'Smith', 'm', 35)\n",
        "session.add(person)\n",
        "session.commit()"
      ],
      "metadata": {
        "colab": {
          "base_uri": "https://localhost:8080/"
        },
        "id": "Q79--aj0Fofp",
        "outputId": "24b6b020-114d-4ad7-fd15-0da3f9f5a3c9"
      },
      "execution_count": 62,
      "outputs": [
        {
          "output_type": "stream",
          "name": "stdout",
          "text": [
            "2024-04-09 11:07:22,872 INFO sqlalchemy.engine.Engine BEGIN (implicit)\n"
          ]
        },
        {
          "output_type": "stream",
          "name": "stderr",
          "text": [
            "INFO:sqlalchemy.engine.Engine:BEGIN (implicit)\n"
          ]
        },
        {
          "output_type": "stream",
          "name": "stdout",
          "text": [
            "2024-04-09 11:07:22,878 INFO sqlalchemy.engine.Engine INSERT INTO people (ssn, firstname, lastname, gender, age) VALUES (?, ?, ?, ?, ?)\n"
          ]
        },
        {
          "output_type": "stream",
          "name": "stderr",
          "text": [
            "INFO:sqlalchemy.engine.Engine:INSERT INTO people (ssn, firstname, lastname, gender, age) VALUES (?, ?, ?, ?, ?)\n"
          ]
        },
        {
          "output_type": "stream",
          "name": "stdout",
          "text": [
            "2024-04-09 11:07:22,882 INFO sqlalchemy.engine.Engine [generated in 0.00409s] (12313, 'Mike', 'Smith', 'm', 35)\n"
          ]
        },
        {
          "output_type": "stream",
          "name": "stderr",
          "text": [
            "INFO:sqlalchemy.engine.Engine:[generated in 0.00409s] (12313, 'Mike', 'Smith', 'm', 35)\n"
          ]
        },
        {
          "output_type": "stream",
          "name": "stdout",
          "text": [
            "2024-04-09 11:07:22,886 INFO sqlalchemy.engine.Engine COMMIT\n"
          ]
        },
        {
          "output_type": "stream",
          "name": "stderr",
          "text": [
            "INFO:sqlalchemy.engine.Engine:COMMIT\n"
          ]
        }
      ]
    },
    {
      "cell_type": "code",
      "source": [
        "# Creating unique SSN values for each Person object\n",
        "p1 = Person(23439, 'anna', 'blue', 'f', 40)\n",
        "p2 = Person(23430, 'bob', 'blue', 'm', 41)\n",
        "p3 = Person(23485, 'tom', 'jerry', 'm', 30)\n",
        "p4 = Person(23995, 'mike', 'tyson', 'm', 60)\n",
        "p5 = Person(23412, 'snig', 'rach', 'f', 25)"
      ],
      "metadata": {
        "id": "s0L7tNRGFoid"
      },
      "execution_count": 63,
      "outputs": []
    },
    {
      "cell_type": "code",
      "source": [],
      "metadata": {
        "id": "YLeRQ2RXFolM"
      },
      "execution_count": 63,
      "outputs": []
    },
    {
      "cell_type": "code",
      "source": [],
      "metadata": {
        "id": "m4z1S7pXFooG"
      },
      "execution_count": 63,
      "outputs": []
    },
    {
      "cell_type": "code",
      "source": [
        "# creating another table that has reference to people table on ssn owner\n",
        "\n",
        "t1 = Thing(1, 'car', p1.ssn)\n",
        "t2 = Thing(2, 'laptop', p1.ssn)\n",
        "t3 = Thing(3, 'book', p2.ssn)\n",
        "t4 = Thing(4, 'bike', p4.ssn)\n",
        "t5 = Thing(15, 'phone', p5.ssn)\n",
        "t6 = Thing(6, 'pen', p5.ssn)\n",
        "t7 = Thing(7, 'charger', p5.ssn)\n",
        "t8 = Thing(8, 'ac', p5.ssn)"
      ],
      "metadata": {
        "id": "9VUvyxNBg-Su"
      },
      "execution_count": 64,
      "outputs": []
    },
    {
      "cell_type": "code",
      "source": [
        "session.add(p1)\n",
        "session.add(p2)\n",
        "session.add(p3)\n",
        "session.add(p4)\n",
        "session.add(p5)\n",
        "\n",
        "session.add(t1)\n",
        "session.add(t2)\n",
        "session.add(t3)\n",
        "session.add(t4)\n",
        "session.add(t5)\n",
        "session.add(t6)\n",
        "session.add(t7)\n",
        "session.add(t8)\n",
        "\n",
        "session.commit()\n",
        "session.close()"
      ],
      "metadata": {
        "colab": {
          "base_uri": "https://localhost:8080/"
        },
        "id": "R23cuk1Hg-aN",
        "outputId": "3850ae95-a48f-4624-ccfd-9a1cfa22c42c"
      },
      "execution_count": 65,
      "outputs": [
        {
          "output_type": "stream",
          "name": "stdout",
          "text": [
            "2024-04-09 11:07:22,958 INFO sqlalchemy.engine.Engine BEGIN (implicit)\n"
          ]
        },
        {
          "output_type": "stream",
          "name": "stderr",
          "text": [
            "INFO:sqlalchemy.engine.Engine:BEGIN (implicit)\n"
          ]
        },
        {
          "output_type": "stream",
          "name": "stdout",
          "text": [
            "2024-04-09 11:07:22,963 INFO sqlalchemy.engine.Engine INSERT INTO people (ssn, firstname, lastname, gender, age) VALUES (?, ?, ?, ?, ?)\n"
          ]
        },
        {
          "output_type": "stream",
          "name": "stderr",
          "text": [
            "INFO:sqlalchemy.engine.Engine:INSERT INTO people (ssn, firstname, lastname, gender, age) VALUES (?, ?, ?, ?, ?)\n"
          ]
        },
        {
          "output_type": "stream",
          "name": "stdout",
          "text": [
            "2024-04-09 11:07:22,967 INFO sqlalchemy.engine.Engine [generated in 0.00426s] [(23439, 'anna', 'blue', 'f', 40), (23430, 'bob', 'blue', 'm', 41), (23485, 'tom', 'jerry', 'm', 30), (23995, 'mike', 'tyson', 'm', 60), (23412, 'snig', 'rach', 'f', 25)]\n"
          ]
        },
        {
          "output_type": "stream",
          "name": "stderr",
          "text": [
            "INFO:sqlalchemy.engine.Engine:[generated in 0.00426s] [(23439, 'anna', 'blue', 'f', 40), (23430, 'bob', 'blue', 'm', 41), (23485, 'tom', 'jerry', 'm', 30), (23995, 'mike', 'tyson', 'm', 60), (23412, 'snig', 'rach', 'f', 25)]\n"
          ]
        },
        {
          "output_type": "stream",
          "name": "stdout",
          "text": [
            "2024-04-09 11:07:22,974 INFO sqlalchemy.engine.Engine INSERT INTO things (tid, description, owner) VALUES (?, ?, ?)\n"
          ]
        },
        {
          "output_type": "stream",
          "name": "stderr",
          "text": [
            "INFO:sqlalchemy.engine.Engine:INSERT INTO things (tid, description, owner) VALUES (?, ?, ?)\n"
          ]
        },
        {
          "output_type": "stream",
          "name": "stdout",
          "text": [
            "2024-04-09 11:07:22,977 INFO sqlalchemy.engine.Engine [generated in 0.00349s] [(1, 'car', 23439), (2, 'laptop', 23439), (3, 'book', 23430), (4, 'bike', 23995), (15, 'phone', 23412), (6, 'pen', 23412), (7, 'charger', 23412), (8, 'ac', 23412)]\n"
          ]
        },
        {
          "output_type": "stream",
          "name": "stderr",
          "text": [
            "INFO:sqlalchemy.engine.Engine:[generated in 0.00349s] [(1, 'car', 23439), (2, 'laptop', 23439), (3, 'book', 23430), (4, 'bike', 23995), (15, 'phone', 23412), (6, 'pen', 23412), (7, 'charger', 23412), (8, 'ac', 23412)]\n"
          ]
        },
        {
          "output_type": "stream",
          "name": "stdout",
          "text": [
            "2024-04-09 11:07:22,981 INFO sqlalchemy.engine.Engine COMMIT\n"
          ]
        },
        {
          "output_type": "stream",
          "name": "stderr",
          "text": [
            "INFO:sqlalchemy.engine.Engine:COMMIT\n"
          ]
        }
      ]
    },
    {
      "cell_type": "code",
      "source": [
        "results = session.query(Person).all()\n",
        "results # list of python objects"
      ],
      "metadata": {
        "colab": {
          "base_uri": "https://localhost:8080/"
        },
        "id": "3q66sMf_Foq2",
        "outputId": "07e14d54-e62b-4177-dde7-42c960eac90b"
      },
      "execution_count": 66,
      "outputs": [
        {
          "output_type": "stream",
          "name": "stdout",
          "text": [
            "2024-04-09 11:07:23,006 INFO sqlalchemy.engine.Engine BEGIN (implicit)\n"
          ]
        },
        {
          "output_type": "stream",
          "name": "stderr",
          "text": [
            "INFO:sqlalchemy.engine.Engine:BEGIN (implicit)\n"
          ]
        },
        {
          "output_type": "stream",
          "name": "stdout",
          "text": [
            "2024-04-09 11:07:23,011 INFO sqlalchemy.engine.Engine SELECT people.ssn AS people_ssn, people.firstname AS people_firstname, people.lastname AS people_lastname, people.gender AS people_gender, people.age AS people_age \n",
            "FROM people\n"
          ]
        },
        {
          "output_type": "stream",
          "name": "stderr",
          "text": [
            "INFO:sqlalchemy.engine.Engine:SELECT people.ssn AS people_ssn, people.firstname AS people_firstname, people.lastname AS people_lastname, people.gender AS people_gender, people.age AS people_age \n",
            "FROM people\n"
          ]
        },
        {
          "output_type": "stream",
          "name": "stdout",
          "text": [
            "2024-04-09 11:07:23,013 INFO sqlalchemy.engine.Engine [generated in 0.00274s] ()\n"
          ]
        },
        {
          "output_type": "stream",
          "name": "stderr",
          "text": [
            "INFO:sqlalchemy.engine.Engine:[generated in 0.00274s] ()\n"
          ]
        },
        {
          "output_type": "execute_result",
          "data": {
            "text/plain": [
              "[(12313) Mike Smith (m 35),\n",
              " (23412) snig rach (f 25),\n",
              " (23430) bob blue (m 41),\n",
              " (23439) anna blue (f 40),\n",
              " (23485) tom jerry (m 30),\n",
              " (23995) mike tyson (m 60)]"
            ]
          },
          "metadata": {},
          "execution_count": 66
        }
      ]
    },
    {
      "cell_type": "code",
      "source": [
        "last_name_results = session.query(Person).filter(Person.lastname == 'blue').all()\n",
        "last_name_results"
      ],
      "metadata": {
        "colab": {
          "base_uri": "https://localhost:8080/"
        },
        "id": "PGys72mWFott",
        "outputId": "f339da98-aff8-479e-947a-4b4bde992be1"
      },
      "execution_count": 67,
      "outputs": [
        {
          "output_type": "stream",
          "name": "stdout",
          "text": [
            "2024-04-09 11:07:23,030 INFO sqlalchemy.engine.Engine SELECT people.ssn AS people_ssn, people.firstname AS people_firstname, people.lastname AS people_lastname, people.gender AS people_gender, people.age AS people_age \n",
            "FROM people \n",
            "WHERE people.lastname = ?\n"
          ]
        },
        {
          "output_type": "stream",
          "name": "stderr",
          "text": [
            "INFO:sqlalchemy.engine.Engine:SELECT people.ssn AS people_ssn, people.firstname AS people_firstname, people.lastname AS people_lastname, people.gender AS people_gender, people.age AS people_age \n",
            "FROM people \n",
            "WHERE people.lastname = ?\n"
          ]
        },
        {
          "output_type": "stream",
          "name": "stdout",
          "text": [
            "2024-04-09 11:07:23,039 INFO sqlalchemy.engine.Engine [generated in 0.00857s] ('blue',)\n"
          ]
        },
        {
          "output_type": "stream",
          "name": "stderr",
          "text": [
            "INFO:sqlalchemy.engine.Engine:[generated in 0.00857s] ('blue',)\n"
          ]
        },
        {
          "output_type": "execute_result",
          "data": {
            "text/plain": [
              "[(23430) bob blue (m 41), (23439) anna blue (f 40)]"
            ]
          },
          "metadata": {},
          "execution_count": 67
        }
      ]
    },
    {
      "cell_type": "code",
      "source": [
        "# query a bit more complicated\n",
        "\n",
        "results = session.query(Thing, Person).filter(Thing.owner == Person.ssn).filter(Person.firstname == 'snig').all()\n",
        "results"
      ],
      "metadata": {
        "colab": {
          "base_uri": "https://localhost:8080/"
        },
        "id": "VpD4MkixFowu",
        "outputId": "e341c146-8388-4478-a3fd-5d9d8470d95a"
      },
      "execution_count": 68,
      "outputs": [
        {
          "output_type": "stream",
          "name": "stdout",
          "text": [
            "2024-04-09 11:07:23,054 INFO sqlalchemy.engine.Engine SELECT things.tid AS things_tid, things.description AS things_description, things.owner AS things_owner, people.ssn AS people_ssn, people.firstname AS people_firstname, people.lastname AS people_lastname, people.gender AS people_gender, people.age AS people_age \n",
            "FROM things, people \n",
            "WHERE things.owner = people.ssn AND people.firstname = ?\n"
          ]
        },
        {
          "output_type": "stream",
          "name": "stderr",
          "text": [
            "INFO:sqlalchemy.engine.Engine:SELECT things.tid AS things_tid, things.description AS things_description, things.owner AS things_owner, people.ssn AS people_ssn, people.firstname AS people_firstname, people.lastname AS people_lastname, people.gender AS people_gender, people.age AS people_age \n",
            "FROM things, people \n",
            "WHERE things.owner = people.ssn AND people.firstname = ?\n"
          ]
        },
        {
          "output_type": "stream",
          "name": "stdout",
          "text": [
            "2024-04-09 11:07:23,064 INFO sqlalchemy.engine.Engine [generated in 0.01054s] ('snig',)\n"
          ]
        },
        {
          "output_type": "stream",
          "name": "stderr",
          "text": [
            "INFO:sqlalchemy.engine.Engine:[generated in 0.01054s] ('snig',)\n"
          ]
        },
        {
          "output_type": "execute_result",
          "data": {
            "text/plain": [
              "[((6) pen owned by 23412, (23412) snig rach (f 25)),\n",
              " ((7) charger owned by 23412, (23412) snig rach (f 25)),\n",
              " ((8) ac owned by 23412, (23412) snig rach (f 25)),\n",
              " ((15) phone owned by 23412, (23412) snig rach (f 25))]"
            ]
          },
          "metadata": {},
          "execution_count": 68
        }
      ]
    },
    {
      "cell_type": "code",
      "source": [],
      "metadata": {
        "id": "O_Ak_Qm4Fozf"
      },
      "execution_count": 68,
      "outputs": []
    },
    {
      "cell_type": "code",
      "source": [],
      "metadata": {
        "id": "R3Wvl-MEFo2Y"
      },
      "execution_count": 68,
      "outputs": []
    },
    {
      "cell_type": "code",
      "source": [],
      "metadata": {
        "id": "_60mFU5wFo5D"
      },
      "execution_count": 68,
      "outputs": []
    },
    {
      "cell_type": "code",
      "source": [],
      "metadata": {
        "id": "CU63Z32xFo8R"
      },
      "execution_count": 68,
      "outputs": []
    }
  ]
}